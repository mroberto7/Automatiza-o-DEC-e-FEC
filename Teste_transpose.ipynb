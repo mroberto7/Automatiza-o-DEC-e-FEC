{
  "nbformat": 4,
  "nbformat_minor": 0,
  "metadata": {
    "interpreter": {
      "hash": "db9a0f97cdc563e4ba1cad2db23e94d74696352b3bd374cb2194d01499637b94"
    },
    "kernelspec": {
      "display_name": "Python 3.9.7 64-bit ('base': conda)",
      "language": "python",
      "name": "python3"
    },
    "language_info": {
      "codemirror_mode": {
        "name": "ipython",
        "version": 3
      },
      "file_extension": ".py",
      "mimetype": "text/x-python",
      "name": "python",
      "nbconvert_exporter": "python",
      "pygments_lexer": "ipython3",
      "version": "3.9.7"
    },
    "orig_nbformat": 4,
    "colab": {
      "name": "Teste_transpose.ipynb",
      "provenance": [],
      "include_colab_link": true
    }
  },
  "cells": [
    {
      "cell_type": "markdown",
      "metadata": {
        "id": "view-in-github",
        "colab_type": "text"
      },
      "source": [
        "<a href=\"https://colab.research.google.com/github/mroberto7/Automatizacao-DEC-e-FEC/blob/main/Teste_transpose.ipynb\" target=\"_parent\"><img src=\"https://colab.research.google.com/assets/colab-badge.svg\" alt=\"Open In Colab\"/></a>"
      ]
    },
    {
      "cell_type": "code",
      "metadata": {
        "id": "M0lhjZSdiOap"
      },
      "source": [
        "import pandas as pd\n",
        "import numpy as np"
      ],
      "execution_count": null,
      "outputs": []
    },
    {
      "cell_type": "code",
      "metadata": {
        "id": "ibIID0g3iOas"
      },
      "source": [
        "url = 'https://www2.aneel.gov.br/aplicacoes/indicadores_de_qualidade/decFecSegMensal.cfm?mes={}&ano={}}&regiao=SE&distribuidora={}}&tipo=d'\n",
        "scrap = pd.read_html('https://www2.aneel.gov.br/aplicacoes/indicadores_de_qualidade/decFecSegMensal.cfm?mes=1&ano=2017&regiao=SE&distribuidora=383&tipo=d')"
      ],
      "execution_count": null,
      "outputs": []
    },
    {
      "cell_type": "code",
      "metadata": {
        "id": "2w1_OtstiOau"
      },
      "source": [
        "all_dfs = []\n",
        "lista_ano = [2010,2011,2012,2013,2014,2015,2016,2017,2018,2019,2021]\n",
        "lista_distribuidores = [383,382,5274,6585,6612]\n",
        "lista_mes = [1,2,3,4,5,6,7,8,9,10,11,12]"
      ],
      "execution_count": null,
      "outputs": []
    },
    {
      "cell_type": "code",
      "metadata": {
        "id": "saGNT53iiOau"
      },
      "source": [
        "\n",
        "for ano in lista_ano:\n",
        "    for distribuidora in lista_distribuidores:\n",
        "        for mes in lista_mes:\n",
        "            scraping = pd.read_html('https://www2.aneel.gov.br/aplicacoes/indicadores_de_qualidade/decFecSegMensal.cfm?mes={}&ano={}&regiao=SE&distribuidora={}&tipo=d'.format(mes,ano,distribuidora))\n",
        "            all_dfs.extend(scraping[0])\n",
        "            df = pd.DataFrame(all_dfs)\n",
        "            df.to_csv('final_data.csv', encoding= 'utf-8')\n",
        "            "
      ],
      "execution_count": null,
      "outputs": []
    },
    {
      "cell_type": "code",
      "metadata": {
        "id": "Wqqc4LWpiOaw"
      },
      "source": [
        ""
      ],
      "execution_count": null,
      "outputs": []
    },
    {
      "cell_type": "code",
      "metadata": {
        "id": "xD9CvUd6iOax"
      },
      "source": [
        ""
      ],
      "execution_count": null,
      "outputs": []
    },
    {
      "cell_type": "code",
      "metadata": {
        "id": "yzbZIpyciOax"
      },
      "source": [
        ""
      ],
      "execution_count": null,
      "outputs": []
    },
    {
      "cell_type": "code",
      "metadata": {
        "id": "Zbm2PZ5BiOay"
      },
      "source": [
        ""
      ],
      "execution_count": null,
      "outputs": []
    }
  ]
}