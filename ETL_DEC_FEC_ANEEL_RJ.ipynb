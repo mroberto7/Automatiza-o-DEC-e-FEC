{
 "cells": [
  {
   "cell_type": "code",
   "execution_count": 1,
   "metadata": {},
   "outputs": [],
   "source": [
    "import pandas as pd\n",
    "import numpy as np\n",
    "import ssl\n",
    "\n",
    "try:\n",
    "    _create_unverified_https_context = ssl._create_unverified_context\n",
    "except AttributeError:\n",
    "    # Legacy Python that doesn't verify HTTPS certificates by default\n",
    "    pass\n",
    "else:\n",
    "    # Handle target environment that doesn't support HTTPS verification\n",
    "    ssl._create_default_https_context = _create_unverified_https_context"
   ]
  },
  {
   "cell_type": "code",
   "execution_count": 2,
   "metadata": {},
   "outputs": [],
   "source": [
    "url = 'https://www2.aneel.gov.br/aplicacoes/indicadores_de_qualidade/decFecSegMensal.cfm?mes={}&ano={}}&regiao=SE&distribuidora={}}&tipo=d'"
   ]
  },
  {
   "cell_type": "code",
   "execution_count": 3,
   "metadata": {},
   "outputs": [],
   "source": [
    "\n",
    "lista_ano = [2010,2011,2012,2013,2014,2015,2016,2017,2018,2019,2020,2021]\n",
    "lista_distribuidores = [383,382,5274,6585,6612]\n",
    "lista_mes = [1,2,3,4,5,6,7,8,9,10,11,12]"
   ]
  },
  {
   "cell_type": "code",
   "execution_count": 4,
   "metadata": {},
   "outputs": [],
   "source": [
    "\n",
    "for ano in lista_ano:\n",
    "    for distribuidora in lista_distribuidores:\n",
    "        for mes in lista_mes:\n",
    "            scraping = pd.read_html('https://www2.aneel.gov.br/aplicacoes/indicadores_de_qualidade/decFecSegMensal.cfm?mes={}&ano={}&regiao=SE&distribuidora={}&tipo=d'.format(mes,ano,distribuidora))\n",
    "            dfs= pd.DataFrame(scraping[0])\n",
    "            dfs.drop(dfs.tail(3).index,inplace=True)\n",
    "            dfs.drop(dfs.head(3).index,inplace=True)\n",
    "            dfs = dfs.assign(MES = '{}'.format(mes))\n",
    "            dfs = dfs.assign(ANO = '{}'.format(ano))\n",
    "            dfs = dfs.assign(DISTRIBUIDORA = '{}'.format(distribuidora))\n",
    "            all_dfs = pd.DataFrame(dfs)\n",
    "            all_dfs.to_csv('final_data_1.csv', encoding= 'utf-8', mode = 'a', header = False, index=False)            \n",
    "            "
   ]
  },
  {
   "cell_type": "code",
   "execution_count": null,
   "metadata": {},
   "outputs": [],
   "source": [
    "df = pd.read_csv(\"data.csv\", encoding = 'utf-8',\n",
    "                  names=['CONJUNTO', 'CÓDIGO', 'N_CONSUMIDORES','DECTOT','FECTOT','DECXP','FECXP','DECXN','FECXN','DECIP','FECIP','DECIND','FECIND','DECINE','FECINE','DECINC','FECINC','DECINO','FECINO','DECIPC','FECIPC','DECXPC','FECXPC','DECXNC','FECXNC','MES','ANO','COD_DISTRIBUIDORA'])"
   ]
  },
  {
   "cell_type": "code",
   "execution_count": null,
   "metadata": {},
   "outputs": [],
   "source": [
    "df['DECTOT'] = df['DECTOT'].astype(int) / 100\n",
    "df['FECTOT'] = df['FECTOT'].astype(int) /100\n",
    "df['DECXP'] = df['DECXP'].astype(int) /100\n",
    "df['FECXP'] = df['FECXP'].astype(int) /100\n",
    "df['DECXN'] = df['DECXN'].astype(int) /100\n",
    "df['FECXN'] = df['FECXN'].astype(int) /100\n",
    "df['DECIP'] = df['DECIP'].astype(int) /100\n",
    "df['FECIP'] = df['FECIP'].astype(int) /100\n",
    "df['DECIND'] = df['DECIND'].astype(int) /100\n",
    "df['FECIND'] = df['FECIND'].astype(int) /100\n",
    "df['DECINE'] = df['DECINE'].astype(int) /100\n",
    "df['FECINE'] = df['FECINE'].astype(int) /100\n",
    "df['DECINC'] = df['DECINC'].astype(int) /100\n",
    "df['FECINC'] = df['FECINC'].astype(int) /100\n",
    "df['FECINO'] = df['FECINO'].astype(int) /100\n",
    "df['DECIPC'] = df['DECIPC'].astype(int) /100\n",
    "df['FECIPC'] = df['FECIPC'].astype(int) /100\n",
    "df['DECXPC'] = df['DECXPC'].astype(int) /100\n",
    "df['FECXPC'] = df['FECXPC'].astype(int) /100\n",
    "df['DECXNC'] = df['DECXNC'].astype(int) /100\n",
    "df['FECXNC'] = df['FECXNC'].astype(int) /100\n",
    "df['N_CONSUMIDORES'] = df['N_CONSUMIDORES'].astype(float,0)"
   ]
  },
  {
   "cell_type": "code",
   "execution_count": null,
   "metadata": {},
   "outputs": [],
   "source": [
    "df['DEC_APURADO'] = df['DECXP'] + df['DECXN'] + df['DECIP'] + df['DECIND']\n",
    "df['FEC_APURADO'] = df['FECXP'] + df['FECXN'] + df['FECIP'] + df['FECIND']"
   ]
  },
  {
   "cell_type": "code",
   "execution_count": null,
   "metadata": {},
   "outputs": [],
   "source": [
    "cols_to_order = ['CONJUNTO', 'CÓDIGO', 'N_CONSUMIDORES', 'DEC_APURADO','FEC_APURADO']\n",
    "new_columns = cols_to_order + (df.columns.drop(cols_to_order).tolist())\n",
    "df = df[new_columns]"
   ]
  },
  {
   "cell_type": "code",
   "execution_count": null,
   "metadata": {},
   "outputs": [],
   "source": [
    "conn = sqlite3.connect('qualidade_energia')\n",
    "c = conn.cursor()"
   ]
  },
  {
   "cell_type": "code",
   "execution_count": null,
   "metadata": {},
   "outputs": [],
   "source": [
    "c.execute('CREATE TABLE IF NOT EXISTS dec_fec (CONJUNTO text, CÓDIGO number,CONSUMIDORES number, DECTOT number,FECTOT number,DECXP number,FECXP number,DECXN number,FECXN number,DECIP number,FECIP number,DECIND number,FECIND number,DECINE number,FECINE number,DECINC number,FECINC number, DECINO number,FECINO number,DECIPC number,FECIPC number,DECXPC number,FECXPC number, DECXNC number,FECXNC number,MES text,ANO text,COD_DISTRIBUIDORA text)')\n",
    "conn.commit()"
   ]
  },
  {
   "cell_type": "code",
   "execution_count": null,
   "metadata": {},
   "outputs": [],
   "source": [
    "df.to_sql('dec_fec', conn, if_exists='replace', index = False)"
   ]
  }
 ],
 "metadata": {
  "interpreter": {
   "hash": "db9a0f97cdc563e4ba1cad2db23e94d74696352b3bd374cb2194d01499637b94"
  },
  "kernelspec": {
   "display_name": "Python 3",
   "language": "python",
   "name": "python3"
  },
  "language_info": {
   "codemirror_mode": {
    "name": "ipython",
    "version": 3
   },
   "file_extension": ".py",
   "mimetype": "text/x-python",
   "name": "python",
   "nbconvert_exporter": "python",
   "pygments_lexer": "ipython3",
   "version": "3.8.5"
  }
 },
 "nbformat": 4,
 "nbformat_minor": 2
}
